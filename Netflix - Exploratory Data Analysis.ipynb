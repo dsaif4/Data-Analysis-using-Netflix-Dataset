{
 "cells": [
  {
   "cell_type": "code",
   "execution_count": 1,
   "id": "68f80001",
   "metadata": {},
   "outputs": [],
   "source": [
    "import pandas as pd\n",
    "import numpy as np\n",
    "import seaborn as sns\n",
    "import matplotlib.pyplot as plt\n",
    "%matplotlib inline"
   ]
  },
  {
   "cell_type": "code",
   "execution_count": 2,
   "id": "c8386272",
   "metadata": {},
   "outputs": [],
   "source": [
    "df = pd.read_csv(\"D:\\\\Data_Science\\\\Datasets\\\\Kaggle_data\\\\Netflix_2021 Movie title\\\\netflix_titles_2021.csv\")"
   ]
  },
  {
   "cell_type": "code",
   "execution_count": 3,
   "id": "e748fa28",
   "metadata": {},
   "outputs": [
    {
     "data": {
      "text/html": [
       "<div>\n",
       "<style scoped>\n",
       "    .dataframe tbody tr th:only-of-type {\n",
       "        vertical-align: middle;\n",
       "    }\n",
       "\n",
       "    .dataframe tbody tr th {\n",
       "        vertical-align: top;\n",
       "    }\n",
       "\n",
       "    .dataframe thead th {\n",
       "        text-align: right;\n",
       "    }\n",
       "</style>\n",
       "<table border=\"1\" class=\"dataframe\">\n",
       "  <thead>\n",
       "    <tr style=\"text-align: right;\">\n",
       "      <th></th>\n",
       "      <th>show_id</th>\n",
       "      <th>type</th>\n",
       "      <th>title</th>\n",
       "      <th>director</th>\n",
       "      <th>cast</th>\n",
       "      <th>country</th>\n",
       "      <th>date_added</th>\n",
       "      <th>release_year</th>\n",
       "      <th>rating</th>\n",
       "      <th>duration</th>\n",
       "      <th>listed_in</th>\n",
       "      <th>description</th>\n",
       "    </tr>\n",
       "  </thead>\n",
       "  <tbody>\n",
       "    <tr>\n",
       "      <th>0</th>\n",
       "      <td>s1</td>\n",
       "      <td>Movie</td>\n",
       "      <td>Dick Johnson Is Dead</td>\n",
       "      <td>Kirsten Johnson</td>\n",
       "      <td>NaN</td>\n",
       "      <td>United States</td>\n",
       "      <td>September 25, 2021</td>\n",
       "      <td>2020</td>\n",
       "      <td>PG-13</td>\n",
       "      <td>90 min</td>\n",
       "      <td>Documentaries</td>\n",
       "      <td>As her father nears the end of his life, filmm...</td>\n",
       "    </tr>\n",
       "    <tr>\n",
       "      <th>1</th>\n",
       "      <td>s2</td>\n",
       "      <td>TV Show</td>\n",
       "      <td>Blood &amp; Water</td>\n",
       "      <td>NaN</td>\n",
       "      <td>Ama Qamata, Khosi Ngema, Gail Mabalane, Thaban...</td>\n",
       "      <td>South Africa</td>\n",
       "      <td>September 24, 2021</td>\n",
       "      <td>2021</td>\n",
       "      <td>TV-MA</td>\n",
       "      <td>2 Seasons</td>\n",
       "      <td>International TV Shows, TV Dramas, TV Mysteries</td>\n",
       "      <td>After crossing paths at a party, a Cape Town t...</td>\n",
       "    </tr>\n",
       "    <tr>\n",
       "      <th>2</th>\n",
       "      <td>s3</td>\n",
       "      <td>TV Show</td>\n",
       "      <td>Ganglands</td>\n",
       "      <td>Julien Leclercq</td>\n",
       "      <td>Sami Bouajila, Tracy Gotoas, Samuel Jouy, Nabi...</td>\n",
       "      <td>NaN</td>\n",
       "      <td>September 24, 2021</td>\n",
       "      <td>2021</td>\n",
       "      <td>TV-MA</td>\n",
       "      <td>1 Season</td>\n",
       "      <td>Crime TV Shows, International TV Shows, TV Act...</td>\n",
       "      <td>To protect his family from a powerful drug lor...</td>\n",
       "    </tr>\n",
       "    <tr>\n",
       "      <th>3</th>\n",
       "      <td>s4</td>\n",
       "      <td>TV Show</td>\n",
       "      <td>Jailbirds New Orleans</td>\n",
       "      <td>NaN</td>\n",
       "      <td>NaN</td>\n",
       "      <td>NaN</td>\n",
       "      <td>September 24, 2021</td>\n",
       "      <td>2021</td>\n",
       "      <td>TV-MA</td>\n",
       "      <td>1 Season</td>\n",
       "      <td>Docuseries, Reality TV</td>\n",
       "      <td>Feuds, flirtations and toilet talk go down amo...</td>\n",
       "    </tr>\n",
       "    <tr>\n",
       "      <th>4</th>\n",
       "      <td>s5</td>\n",
       "      <td>TV Show</td>\n",
       "      <td>Kota Factory</td>\n",
       "      <td>NaN</td>\n",
       "      <td>Mayur More, Jitendra Kumar, Ranjan Raj, Alam K...</td>\n",
       "      <td>India</td>\n",
       "      <td>September 24, 2021</td>\n",
       "      <td>2021</td>\n",
       "      <td>TV-MA</td>\n",
       "      <td>2 Seasons</td>\n",
       "      <td>International TV Shows, Romantic TV Shows, TV ...</td>\n",
       "      <td>In a city of coaching centers known to train I...</td>\n",
       "    </tr>\n",
       "  </tbody>\n",
       "</table>\n",
       "</div>"
      ],
      "text/plain": [
       "  show_id     type                  title         director  \\\n",
       "0      s1    Movie   Dick Johnson Is Dead  Kirsten Johnson   \n",
       "1      s2  TV Show          Blood & Water              NaN   \n",
       "2      s3  TV Show              Ganglands  Julien Leclercq   \n",
       "3      s4  TV Show  Jailbirds New Orleans              NaN   \n",
       "4      s5  TV Show           Kota Factory              NaN   \n",
       "\n",
       "                                                cast        country  \\\n",
       "0                                                NaN  United States   \n",
       "1  Ama Qamata, Khosi Ngema, Gail Mabalane, Thaban...   South Africa   \n",
       "2  Sami Bouajila, Tracy Gotoas, Samuel Jouy, Nabi...            NaN   \n",
       "3                                                NaN            NaN   \n",
       "4  Mayur More, Jitendra Kumar, Ranjan Raj, Alam K...          India   \n",
       "\n",
       "           date_added  release_year rating   duration  \\\n",
       "0  September 25, 2021          2020  PG-13     90 min   \n",
       "1  September 24, 2021          2021  TV-MA  2 Seasons   \n",
       "2  September 24, 2021          2021  TV-MA   1 Season   \n",
       "3  September 24, 2021          2021  TV-MA   1 Season   \n",
       "4  September 24, 2021          2021  TV-MA  2 Seasons   \n",
       "\n",
       "                                           listed_in  \\\n",
       "0                                      Documentaries   \n",
       "1    International TV Shows, TV Dramas, TV Mysteries   \n",
       "2  Crime TV Shows, International TV Shows, TV Act...   \n",
       "3                             Docuseries, Reality TV   \n",
       "4  International TV Shows, Romantic TV Shows, TV ...   \n",
       "\n",
       "                                         description  \n",
       "0  As her father nears the end of his life, filmm...  \n",
       "1  After crossing paths at a party, a Cape Town t...  \n",
       "2  To protect his family from a powerful drug lor...  \n",
       "3  Feuds, flirtations and toilet talk go down amo...  \n",
       "4  In a city of coaching centers known to train I...  "
      ]
     },
     "execution_count": 3,
     "metadata": {},
     "output_type": "execute_result"
    }
   ],
   "source": [
    "df.head()"
   ]
  },
  {
   "cell_type": "code",
   "execution_count": 4,
   "id": "d244585d",
   "metadata": {},
   "outputs": [
    {
     "name": "stdout",
     "output_type": "stream",
     "text": [
      "Number of rows are 8807 and columns are 12\n"
     ]
    }
   ],
   "source": [
    "# lets check the dimension of the datsets\n",
    "\n",
    "print(f'Number of rows are {df.shape[0]} and columns are {df.shape[1]}')"
   ]
  },
  {
   "cell_type": "code",
   "execution_count": 5,
   "id": "14e372a2",
   "metadata": {},
   "outputs": [
    {
     "name": "stdout",
     "output_type": "stream",
     "text": [
      "<class 'pandas.core.frame.DataFrame'>\n",
      "RangeIndex: 8807 entries, 0 to 8806\n",
      "Data columns (total 12 columns):\n",
      " #   Column        Non-Null Count  Dtype \n",
      "---  ------        --------------  ----- \n",
      " 0   show_id       8807 non-null   object\n",
      " 1   type          8807 non-null   object\n",
      " 2   title         8807 non-null   object\n",
      " 3   director      6173 non-null   object\n",
      " 4   cast          7982 non-null   object\n",
      " 5   country       7976 non-null   object\n",
      " 6   date_added    8797 non-null   object\n",
      " 7   release_year  8807 non-null   int64 \n",
      " 8   rating        8803 non-null   object\n",
      " 9   duration      8804 non-null   object\n",
      " 10  listed_in     8807 non-null   object\n",
      " 11  description   8807 non-null   object\n",
      "dtypes: int64(1), object(11)\n",
      "memory usage: 825.8+ KB\n"
     ]
    }
   ],
   "source": [
    "# Explore more about basic information of the datsets\n",
    "df.info()"
   ]
  },
  {
   "cell_type": "code",
   "execution_count": 6,
   "id": "91eaddab",
   "metadata": {},
   "outputs": [
    {
     "name": "stdout",
     "output_type": "stream",
     "text": [
      "show_id            0\n",
      "type               0\n",
      "title              0\n",
      "director        2634\n",
      "cast             825\n",
      "country          831\n",
      "date_added        10\n",
      "release_year       0\n",
      "rating             4\n",
      "duration           3\n",
      "listed_in          0\n",
      "description        0\n",
      "dtype: int64\n"
     ]
    }
   ],
   "source": [
    "# check the missing values from the datsets\n",
    "column_null_value = df.isnull().sum()\n",
    "print(column_null_value)"
   ]
  },
  {
   "cell_type": "code",
   "execution_count": 7,
   "id": "98a47f79",
   "metadata": {},
   "outputs": [
    {
     "name": "stdout",
     "output_type": "stream",
     "text": [
      "TV, movies & shows cames from \"748\" countries\n"
     ]
    }
   ],
   "source": [
    "# check from how many countries the entries have been recieved \n",
    "a = df['country'].nunique()\n",
    "print(f'TV, movies & shows cames from \"{a}\" countries')\n"
   ]
  },
  {
   "cell_type": "code",
   "execution_count": 8,
   "id": "f1d29cdf",
   "metadata": {},
   "outputs": [
    {
     "data": {
      "text/plain": [
       "array(['Movie', 'TV Show'], dtype=object)"
      ]
     },
     "execution_count": 8,
     "metadata": {},
     "output_type": "execute_result"
    }
   ],
   "source": [
    "# check the show types\n",
    "df['type'].unique()"
   ]
  },
  {
   "cell_type": "code",
   "execution_count": 9,
   "id": "08cd3e6f",
   "metadata": {},
   "outputs": [
    {
     "name": "stdout",
     "output_type": "stream",
     "text": [
      "Movie      6131\n",
      "TV Show    2676\n",
      "Name: type, dtype: int64\n"
     ]
    }
   ],
   "source": [
    "# check the number of shows and movies \n",
    "val_for_types = df['type'].value_counts()\n",
    "print(val_for_types)"
   ]
  },
  {
   "cell_type": "code",
   "execution_count": 10,
   "id": "c8d607a1",
   "metadata": {},
   "outputs": [
    {
     "data": {
      "text/plain": [
       "1 Season     1793\n",
       "2 Seasons     425\n",
       "3 Seasons     199\n",
       "90 min        152\n",
       "93 min        146\n",
       "             ... \n",
       "9 min           1\n",
       "18 min          1\n",
       "3 min           1\n",
       "16 min          1\n",
       "312 min         1\n",
       "Name: duration, Length: 220, dtype: int64"
      ]
     },
     "execution_count": 10,
     "metadata": {},
     "output_type": "execute_result"
    }
   ],
   "source": [
    "# Lets evalute duration column values:\n",
    "df['duration'].value_counts()"
   ]
  },
  {
   "cell_type": "code",
   "execution_count": 11,
   "id": "a4ae156b",
   "metadata": {},
   "outputs": [],
   "source": [
    "# Function to extract movie duration in minutes from duration column:\n",
    "\n",
    "def get_minutes(duration):\n",
    "    if isinstance (duration,str) and 'min' in duration:\n",
    "        return int(duration.replace('min', '').strip())\n",
    "    return None\n",
    "\n",
    "# Function to extract number of seasons from duration column:\n",
    "\n",
    "def get_season(duration):\n",
    "    if isinstance (duration,str) and ('Season' in duration or \"Seasons\" in duration):\n",
    "        return int(duration.split()[0])\n",
    "    return None"
   ]
  },
  {
   "cell_type": "code",
   "execution_count": 12,
   "id": "181e5c34",
   "metadata": {},
   "outputs": [],
   "source": [
    "# apply function to datasets \n",
    "df['duration_min'] = df['duration'].apply(get_minutes)\n",
    "df['seasons_col'] = df['duration'].apply(get_season)"
   ]
  },
  {
   "cell_type": "code",
   "execution_count": 13,
   "id": "46c1ae94",
   "metadata": {},
   "outputs": [
    {
     "data": {
      "text/html": [
       "<div>\n",
       "<style scoped>\n",
       "    .dataframe tbody tr th:only-of-type {\n",
       "        vertical-align: middle;\n",
       "    }\n",
       "\n",
       "    .dataframe tbody tr th {\n",
       "        vertical-align: top;\n",
       "    }\n",
       "\n",
       "    .dataframe thead th {\n",
       "        text-align: right;\n",
       "    }\n",
       "</style>\n",
       "<table border=\"1\" class=\"dataframe\">\n",
       "  <thead>\n",
       "    <tr style=\"text-align: right;\">\n",
       "      <th></th>\n",
       "      <th>show_id</th>\n",
       "      <th>type</th>\n",
       "      <th>title</th>\n",
       "      <th>director</th>\n",
       "      <th>cast</th>\n",
       "      <th>country</th>\n",
       "      <th>date_added</th>\n",
       "      <th>release_year</th>\n",
       "      <th>rating</th>\n",
       "      <th>listed_in</th>\n",
       "      <th>description</th>\n",
       "      <th>duration_min</th>\n",
       "      <th>seasons_col</th>\n",
       "    </tr>\n",
       "  </thead>\n",
       "  <tbody>\n",
       "    <tr>\n",
       "      <th>0</th>\n",
       "      <td>s1</td>\n",
       "      <td>Movie</td>\n",
       "      <td>Dick Johnson Is Dead</td>\n",
       "      <td>Kirsten Johnson</td>\n",
       "      <td>NaN</td>\n",
       "      <td>United States</td>\n",
       "      <td>September 25, 2021</td>\n",
       "      <td>2020</td>\n",
       "      <td>PG-13</td>\n",
       "      <td>Documentaries</td>\n",
       "      <td>As her father nears the end of his life, filmm...</td>\n",
       "      <td>90.0</td>\n",
       "      <td>NaN</td>\n",
       "    </tr>\n",
       "    <tr>\n",
       "      <th>1</th>\n",
       "      <td>s2</td>\n",
       "      <td>TV Show</td>\n",
       "      <td>Blood &amp; Water</td>\n",
       "      <td>NaN</td>\n",
       "      <td>Ama Qamata, Khosi Ngema, Gail Mabalane, Thaban...</td>\n",
       "      <td>South Africa</td>\n",
       "      <td>September 24, 2021</td>\n",
       "      <td>2021</td>\n",
       "      <td>TV-MA</td>\n",
       "      <td>International TV Shows, TV Dramas, TV Mysteries</td>\n",
       "      <td>After crossing paths at a party, a Cape Town t...</td>\n",
       "      <td>NaN</td>\n",
       "      <td>2.0</td>\n",
       "    </tr>\n",
       "    <tr>\n",
       "      <th>2</th>\n",
       "      <td>s3</td>\n",
       "      <td>TV Show</td>\n",
       "      <td>Ganglands</td>\n",
       "      <td>Julien Leclercq</td>\n",
       "      <td>Sami Bouajila, Tracy Gotoas, Samuel Jouy, Nabi...</td>\n",
       "      <td>NaN</td>\n",
       "      <td>September 24, 2021</td>\n",
       "      <td>2021</td>\n",
       "      <td>TV-MA</td>\n",
       "      <td>Crime TV Shows, International TV Shows, TV Act...</td>\n",
       "      <td>To protect his family from a powerful drug lor...</td>\n",
       "      <td>NaN</td>\n",
       "      <td>1.0</td>\n",
       "    </tr>\n",
       "    <tr>\n",
       "      <th>3</th>\n",
       "      <td>s4</td>\n",
       "      <td>TV Show</td>\n",
       "      <td>Jailbirds New Orleans</td>\n",
       "      <td>NaN</td>\n",
       "      <td>NaN</td>\n",
       "      <td>NaN</td>\n",
       "      <td>September 24, 2021</td>\n",
       "      <td>2021</td>\n",
       "      <td>TV-MA</td>\n",
       "      <td>Docuseries, Reality TV</td>\n",
       "      <td>Feuds, flirtations and toilet talk go down amo...</td>\n",
       "      <td>NaN</td>\n",
       "      <td>1.0</td>\n",
       "    </tr>\n",
       "    <tr>\n",
       "      <th>4</th>\n",
       "      <td>s5</td>\n",
       "      <td>TV Show</td>\n",
       "      <td>Kota Factory</td>\n",
       "      <td>NaN</td>\n",
       "      <td>Mayur More, Jitendra Kumar, Ranjan Raj, Alam K...</td>\n",
       "      <td>India</td>\n",
       "      <td>September 24, 2021</td>\n",
       "      <td>2021</td>\n",
       "      <td>TV-MA</td>\n",
       "      <td>International TV Shows, Romantic TV Shows, TV ...</td>\n",
       "      <td>In a city of coaching centers known to train I...</td>\n",
       "      <td>NaN</td>\n",
       "      <td>2.0</td>\n",
       "    </tr>\n",
       "  </tbody>\n",
       "</table>\n",
       "</div>"
      ],
      "text/plain": [
       "  show_id     type                  title         director  \\\n",
       "0      s1    Movie   Dick Johnson Is Dead  Kirsten Johnson   \n",
       "1      s2  TV Show          Blood & Water              NaN   \n",
       "2      s3  TV Show              Ganglands  Julien Leclercq   \n",
       "3      s4  TV Show  Jailbirds New Orleans              NaN   \n",
       "4      s5  TV Show           Kota Factory              NaN   \n",
       "\n",
       "                                                cast        country  \\\n",
       "0                                                NaN  United States   \n",
       "1  Ama Qamata, Khosi Ngema, Gail Mabalane, Thaban...   South Africa   \n",
       "2  Sami Bouajila, Tracy Gotoas, Samuel Jouy, Nabi...            NaN   \n",
       "3                                                NaN            NaN   \n",
       "4  Mayur More, Jitendra Kumar, Ranjan Raj, Alam K...          India   \n",
       "\n",
       "           date_added  release_year rating  \\\n",
       "0  September 25, 2021          2020  PG-13   \n",
       "1  September 24, 2021          2021  TV-MA   \n",
       "2  September 24, 2021          2021  TV-MA   \n",
       "3  September 24, 2021          2021  TV-MA   \n",
       "4  September 24, 2021          2021  TV-MA   \n",
       "\n",
       "                                           listed_in  \\\n",
       "0                                      Documentaries   \n",
       "1    International TV Shows, TV Dramas, TV Mysteries   \n",
       "2  Crime TV Shows, International TV Shows, TV Act...   \n",
       "3                             Docuseries, Reality TV   \n",
       "4  International TV Shows, Romantic TV Shows, TV ...   \n",
       "\n",
       "                                         description  duration_min  \\\n",
       "0  As her father nears the end of his life, filmm...          90.0   \n",
       "1  After crossing paths at a party, a Cape Town t...           NaN   \n",
       "2  To protect his family from a powerful drug lor...           NaN   \n",
       "3  Feuds, flirtations and toilet talk go down amo...           NaN   \n",
       "4  In a city of coaching centers known to train I...           NaN   \n",
       "\n",
       "   seasons_col  \n",
       "0          NaN  \n",
       "1          2.0  \n",
       "2          1.0  \n",
       "3          1.0  \n",
       "4          2.0  "
      ]
     },
     "execution_count": 13,
     "metadata": {},
     "output_type": "execute_result"
    }
   ],
   "source": [
    "# drop the unnecessory column\n",
    "\n",
    "df.drop('duration', axis = 1, inplace = True)\n",
    "\n",
    "#show the data again\n",
    "\n",
    "df.head()"
   ]
  },
  {
   "cell_type": "code",
   "execution_count": 14,
   "id": "25df5545",
   "metadata": {},
   "outputs": [],
   "source": [
    "# check the correlation between the variables\n",
    "\n",
    "# lets convert rating column\n",
    "\n",
    "from sklearn.preprocessing import LabelEncoder\n",
    "\n",
    "le = LabelEncoder()\n",
    "\n",
    "df['le_rating'] = le.fit_transform(df['rating'])"
   ]
  },
  {
   "cell_type": "code",
   "execution_count": 15,
   "id": "8c72b0cf",
   "metadata": {},
   "outputs": [
    {
     "data": {
      "text/html": [
       "<div>\n",
       "<style scoped>\n",
       "    .dataframe tbody tr th:only-of-type {\n",
       "        vertical-align: middle;\n",
       "    }\n",
       "\n",
       "    .dataframe tbody tr th {\n",
       "        vertical-align: top;\n",
       "    }\n",
       "\n",
       "    .dataframe thead th {\n",
       "        text-align: right;\n",
       "    }\n",
       "</style>\n",
       "<table border=\"1\" class=\"dataframe\">\n",
       "  <thead>\n",
       "    <tr style=\"text-align: right;\">\n",
       "      <th></th>\n",
       "      <th>show_id</th>\n",
       "      <th>type</th>\n",
       "      <th>title</th>\n",
       "      <th>director</th>\n",
       "      <th>cast</th>\n",
       "      <th>country</th>\n",
       "      <th>date_added</th>\n",
       "      <th>release_year</th>\n",
       "      <th>rating</th>\n",
       "      <th>listed_in</th>\n",
       "      <th>description</th>\n",
       "      <th>duration_min</th>\n",
       "      <th>seasons_col</th>\n",
       "      <th>le_rating</th>\n",
       "    </tr>\n",
       "  </thead>\n",
       "  <tbody>\n",
       "    <tr>\n",
       "      <th>0</th>\n",
       "      <td>s1</td>\n",
       "      <td>Movie</td>\n",
       "      <td>Dick Johnson Is Dead</td>\n",
       "      <td>Kirsten Johnson</td>\n",
       "      <td>NaN</td>\n",
       "      <td>United States</td>\n",
       "      <td>September 25, 2021</td>\n",
       "      <td>2020</td>\n",
       "      <td>PG-13</td>\n",
       "      <td>Documentaries</td>\n",
       "      <td>As her father nears the end of his life, filmm...</td>\n",
       "      <td>90.0</td>\n",
       "      <td>NaN</td>\n",
       "      <td>7</td>\n",
       "    </tr>\n",
       "    <tr>\n",
       "      <th>1</th>\n",
       "      <td>s2</td>\n",
       "      <td>TV Show</td>\n",
       "      <td>Blood &amp; Water</td>\n",
       "      <td>NaN</td>\n",
       "      <td>Ama Qamata, Khosi Ngema, Gail Mabalane, Thaban...</td>\n",
       "      <td>South Africa</td>\n",
       "      <td>September 24, 2021</td>\n",
       "      <td>2021</td>\n",
       "      <td>TV-MA</td>\n",
       "      <td>International TV Shows, TV Dramas, TV Mysteries</td>\n",
       "      <td>After crossing paths at a party, a Cape Town t...</td>\n",
       "      <td>NaN</td>\n",
       "      <td>2.0</td>\n",
       "      <td>11</td>\n",
       "    </tr>\n",
       "    <tr>\n",
       "      <th>2</th>\n",
       "      <td>s3</td>\n",
       "      <td>TV Show</td>\n",
       "      <td>Ganglands</td>\n",
       "      <td>Julien Leclercq</td>\n",
       "      <td>Sami Bouajila, Tracy Gotoas, Samuel Jouy, Nabi...</td>\n",
       "      <td>NaN</td>\n",
       "      <td>September 24, 2021</td>\n",
       "      <td>2021</td>\n",
       "      <td>TV-MA</td>\n",
       "      <td>Crime TV Shows, International TV Shows, TV Act...</td>\n",
       "      <td>To protect his family from a powerful drug lor...</td>\n",
       "      <td>NaN</td>\n",
       "      <td>1.0</td>\n",
       "      <td>11</td>\n",
       "    </tr>\n",
       "    <tr>\n",
       "      <th>3</th>\n",
       "      <td>s4</td>\n",
       "      <td>TV Show</td>\n",
       "      <td>Jailbirds New Orleans</td>\n",
       "      <td>NaN</td>\n",
       "      <td>NaN</td>\n",
       "      <td>NaN</td>\n",
       "      <td>September 24, 2021</td>\n",
       "      <td>2021</td>\n",
       "      <td>TV-MA</td>\n",
       "      <td>Docuseries, Reality TV</td>\n",
       "      <td>Feuds, flirtations and toilet talk go down amo...</td>\n",
       "      <td>NaN</td>\n",
       "      <td>1.0</td>\n",
       "      <td>11</td>\n",
       "    </tr>\n",
       "    <tr>\n",
       "      <th>4</th>\n",
       "      <td>s5</td>\n",
       "      <td>TV Show</td>\n",
       "      <td>Kota Factory</td>\n",
       "      <td>NaN</td>\n",
       "      <td>Mayur More, Jitendra Kumar, Ranjan Raj, Alam K...</td>\n",
       "      <td>India</td>\n",
       "      <td>September 24, 2021</td>\n",
       "      <td>2021</td>\n",
       "      <td>TV-MA</td>\n",
       "      <td>International TV Shows, Romantic TV Shows, TV ...</td>\n",
       "      <td>In a city of coaching centers known to train I...</td>\n",
       "      <td>NaN</td>\n",
       "      <td>2.0</td>\n",
       "      <td>11</td>\n",
       "    </tr>\n",
       "  </tbody>\n",
       "</table>\n",
       "</div>"
      ],
      "text/plain": [
       "  show_id     type                  title         director  \\\n",
       "0      s1    Movie   Dick Johnson Is Dead  Kirsten Johnson   \n",
       "1      s2  TV Show          Blood & Water              NaN   \n",
       "2      s3  TV Show              Ganglands  Julien Leclercq   \n",
       "3      s4  TV Show  Jailbirds New Orleans              NaN   \n",
       "4      s5  TV Show           Kota Factory              NaN   \n",
       "\n",
       "                                                cast        country  \\\n",
       "0                                                NaN  United States   \n",
       "1  Ama Qamata, Khosi Ngema, Gail Mabalane, Thaban...   South Africa   \n",
       "2  Sami Bouajila, Tracy Gotoas, Samuel Jouy, Nabi...            NaN   \n",
       "3                                                NaN            NaN   \n",
       "4  Mayur More, Jitendra Kumar, Ranjan Raj, Alam K...          India   \n",
       "\n",
       "           date_added  release_year rating  \\\n",
       "0  September 25, 2021          2020  PG-13   \n",
       "1  September 24, 2021          2021  TV-MA   \n",
       "2  September 24, 2021          2021  TV-MA   \n",
       "3  September 24, 2021          2021  TV-MA   \n",
       "4  September 24, 2021          2021  TV-MA   \n",
       "\n",
       "                                           listed_in  \\\n",
       "0                                      Documentaries   \n",
       "1    International TV Shows, TV Dramas, TV Mysteries   \n",
       "2  Crime TV Shows, International TV Shows, TV Act...   \n",
       "3                             Docuseries, Reality TV   \n",
       "4  International TV Shows, Romantic TV Shows, TV ...   \n",
       "\n",
       "                                         description  duration_min  \\\n",
       "0  As her father nears the end of his life, filmm...          90.0   \n",
       "1  After crossing paths at a party, a Cape Town t...           NaN   \n",
       "2  To protect his family from a powerful drug lor...           NaN   \n",
       "3  Feuds, flirtations and toilet talk go down amo...           NaN   \n",
       "4  In a city of coaching centers known to train I...           NaN   \n",
       "\n",
       "   seasons_col  le_rating  \n",
       "0          NaN          7  \n",
       "1          2.0         11  \n",
       "2          1.0         11  \n",
       "3          1.0         11  \n",
       "4          2.0         11  "
      ]
     },
     "execution_count": 15,
     "metadata": {},
     "output_type": "execute_result"
    }
   ],
   "source": [
    "df.head()"
   ]
  },
  {
   "cell_type": "markdown",
   "id": "b2ecb314",
   "metadata": {},
   "source": [
    "We can see that rating has been changed from mixed data fromat to integer format"
   ]
  },
  {
   "cell_type": "code",
   "execution_count": 16,
   "id": "ad5c9262",
   "metadata": {},
   "outputs": [
    {
     "data": {
      "image/png": "[encoded data removed]",
      "text/plain": [
       "<Figure size 648x504 with 2 Axes>"
      ]
     },
     "metadata": {
      "needs_background": "light"
     },
     "output_type": "display_data"
    }
   ],
   "source": [
    "# lets check the correlation matrix for the datastes\n",
    "\n",
    "# first group the numerical datsets separately \n",
    "\n",
    "numeric_feature = ['release_year','duration_min','seasons_col','le_rating']\n",
    "\n",
    "correaltion_matrix = df[numeric_feature].corr()\n",
    "\n",
    "plt.figure(figsize=(9,7))\n",
    "sns.heatmap(correaltion_matrix, annot = True, cmap='coolwarm')\n",
    "plt.show()"
   ]
  },
  {
   "cell_type": "code",
   "execution_count": 17,
   "id": "212c2428",
   "metadata": {},
   "outputs": [
    {
     "name": "stdout",
     "output_type": "stream",
     "text": [
      "Most shows played on netflix are \"Movie\" for \"6131\" times\n"
     ]
    }
   ],
   "source": [
    "# which types most played\n",
    "a = df['type'].iloc[0]\n",
    "b = len(df[df['type']=='Movie']) \n",
    "print(f'Most shows played on netflix are \"{a}\" for \"{b}\" times')"
   ]
  },
  {
   "cell_type": "code",
   "execution_count": 18,
   "id": "ddbb1396",
   "metadata": {},
   "outputs": [
    {
     "data": {
      "text/plain": [
       "array([ 7, 11,  6,  9, 12, 13, 14,  8, 10,  3,  4,  1,  2,  0,  5, 17, 15,\n",
       "       16])"
      ]
     },
     "execution_count": 18,
     "metadata": {},
     "output_type": "execute_result"
    }
   ],
   "source": [
    "#Which has the highest rating: TV shows or movies?\n",
    "\n",
    "# first check the ranges of ratings from newly added column\n",
    "df['le_rating'].unique()"
   ]
  },
  {
   "cell_type": "code",
   "execution_count": 19,
   "id": "e3022c20",
   "metadata": {},
   "outputs": [
    {
     "name": "stdout",
     "output_type": "stream",
     "text": [
      "Highest rating for the : \"TV Show\"\n"
     ]
    }
   ],
   "source": [
    "avg_rating = df.groupby('type')['le_rating'].mean()\n",
    "high_avg_rating = avg_rating.idxmax()\n",
    "print(f'Highest rating for the : \"{high_avg_rating}\"')"
   ]
  },
  {
   "cell_type": "code",
   "execution_count": 20,
   "id": "e777aca7",
   "metadata": {},
   "outputs": [
    {
     "name": "stdout",
     "output_type": "stream",
     "text": [
      "release_year\n",
      "1925       1\n",
      "1942       2\n",
      "1943       3\n",
      "1944       3\n",
      "1945       4\n",
      "        ... \n",
      "2017    1032\n",
      "2018    1147\n",
      "2019    1030\n",
      "2020     953\n",
      "2021     592\n",
      "Name: show_id, Length: 74, dtype: int64\n"
     ]
    }
   ],
   "source": [
    "# How many movies were made per year?\n",
    "movie_per_year = df.groupby('release_year')['show_id'].count()\n",
    "print(movie_per_year)"
   ]
  },
  {
   "cell_type": "code",
   "execution_count": 21,
   "id": "7c961517",
   "metadata": {},
   "outputs": [
    {
     "data": {
      "text/plain": [
       "2018"
      ]
     },
     "execution_count": 21,
     "metadata": {},
     "output_type": "execute_result"
    }
   ],
   "source": [
    "# check the maximum movie released in which year\n",
    "movie_per_year.idxmax()"
   ]
  },
  {
   "cell_type": "code",
   "execution_count": 22,
   "id": "1be3e9ae",
   "metadata": {},
   "outputs": [
    {
     "name": "stdout",
     "output_type": "stream",
     "text": [
      "s1060 nan\n"
     ]
    }
   ],
   "source": [
    "# What is the show ID and director for 'House of Cards'?\n",
    "show_id = df[(df['title'] == 'House of Cards')]['show_id'].iloc[0]\n",
    "card_direct = df[(df['title'] == 'House of Cards')]['director'].iloc[0]\n",
    "print(show_id,card_direct)"
   ]
  },
  {
   "cell_type": "code",
   "execution_count": 23,
   "id": "52f57ab2",
   "metadata": {},
   "outputs": [
    {
     "name": "stdout",
     "output_type": "stream",
     "text": [
      "Mayur More, Jitendra Kumar, Ranjan Raj, Alam Khan, Ahsaas Channa, Revathi Pillai, Urvi Singh, Arun Kumar\n",
      "India\n"
     ]
    }
   ],
   "source": [
    "# Who are the cast of the \"Kota Factory\" and country?\n",
    "cast_kota = df[(df['title'] == 'Kota Factory')]['cast'].iloc[0]\n",
    "country_kota = df[(df['title'] == 'Kota Factory')]['country'].iloc[0]\n",
    "print(cast_kota)\n",
    "('\\n')\n",
    "print(country_kota)"
   ]
  },
  {
   "cell_type": "code",
   "execution_count": 24,
   "id": "6d0619ff",
   "metadata": {},
   "outputs": [
    {
     "name": "stdout",
     "output_type": "stream",
     "text": [
      "shape of this data set (37, 14)\n",
      "---------------------------------------------------------\n",
      "The Nutty Professor II: The Klumps\n",
      "Space Cowboys\n",
      "The Original Kings of Comedy\n",
      "Charlie's Angels\n",
      "Snow Day\n",
      "Battlefield Earth\n",
      "The Whole Nine Yards\n",
      "Moesha\n",
      "Rugrats in Paris: The Movie\n",
      "Monty Python: Before the Flying Circus\n",
      "Fiza\n",
      "Phir Bhi Dil Hai Hindustani\n",
      "Pokémon: Indigo League\n",
      "Star Trek: Voyager\n",
      "Joseph: King of Dreams\n",
      "28 Days\n",
      "American Psycho\n",
      "An American Tail: The Treasures of Manhattan Island\n",
      "Billy Elliot\n",
      "Center Stage\n",
      "Chal Mere Bhai\n",
      "Crouching Tiger, Hidden Dragon\n",
      "Dragonheart: A New Beginning\n",
      "Final Destination\n",
      "Hamara Dil Aapke Paas Hai\n",
      "How the Grinch Stole Christmas\n",
      "Kya Kehna\n",
      "Little Nicky\n",
      "Papa the Great\n",
      "Power Rangers Lightspeed Rescue\n",
      "Pukar\n",
      "Scary Movie\n",
      "Scream 3\n",
      "The Art of War\n",
      "The Flintstones in Viva Rock Vegas\n",
      "What Lies Beneath\n",
      "Where the Money Is\n"
     ]
    }
   ],
   "source": [
    "#List all movies released in 2000.\n",
    "\n",
    "twentith_cent_movie = df[df['release_year'] == 2000]\n",
    "print(f'shape of this data set {twentith_cent_movie.shape}')\n",
    "print(\"---------------------------------------------------------\")\n",
    "for movie in twentith_cent_movie['title']:\n",
    "    print(movie)"
   ]
  },
  {
   "cell_type": "code",
   "execution_count": 71,
   "id": "e36fb6d9",
   "metadata": {},
   "outputs": [
    {
     "data": {
      "text/html": [
       "<div>\n",
       "<style scoped>\n",
       "    .dataframe tbody tr th:only-of-type {\n",
       "        vertical-align: middle;\n",
       "    }\n",
       "\n",
       "    .dataframe tbody tr th {\n",
       "        vertical-align: top;\n",
       "    }\n",
       "\n",
       "    .dataframe thead th {\n",
       "        text-align: right;\n",
       "    }\n",
       "</style>\n",
       "<table border=\"1\" class=\"dataframe\">\n",
       "  <thead>\n",
       "    <tr style=\"text-align: right;\">\n",
       "      <th></th>\n",
       "      <th>show_id</th>\n",
       "      <th>type</th>\n",
       "      <th>title</th>\n",
       "      <th>director</th>\n",
       "      <th>cast</th>\n",
       "      <th>country</th>\n",
       "      <th>date_added</th>\n",
       "      <th>release_year</th>\n",
       "      <th>rating</th>\n",
       "      <th>listed_in</th>\n",
       "      <th>description</th>\n",
       "      <th>duration_min</th>\n",
       "      <th>seasons_col</th>\n",
       "      <th>le_rating</th>\n",
       "    </tr>\n",
       "  </thead>\n",
       "  <tbody>\n",
       "    <tr>\n",
       "      <th>4</th>\n",
       "      <td>s5</td>\n",
       "      <td>TV Show</td>\n",
       "      <td>Kota Factory</td>\n",
       "      <td>NaN</td>\n",
       "      <td>Mayur More, Jitendra Kumar, Ranjan Raj, Alam K...</td>\n",
       "      <td>India</td>\n",
       "      <td>September 24, 2021</td>\n",
       "      <td>2021</td>\n",
       "      <td>TV-MA</td>\n",
       "      <td>International TV Shows, Romantic TV Shows, TV ...</td>\n",
       "      <td>In a city of coaching centers known to train I...</td>\n",
       "      <td>NaN</td>\n",
       "      <td>2.0</td>\n",
       "      <td>11</td>\n",
       "    </tr>\n",
       "    <tr>\n",
       "      <th>2353</th>\n",
       "      <td>s2354</td>\n",
       "      <td>Movie</td>\n",
       "      <td>Chaman Bahaar</td>\n",
       "      <td>Apurva Dhar Badgaiyann</td>\n",
       "      <td>Jitendra Kumar, Ritika Badiani, Yogendra Tikku...</td>\n",
       "      <td>India</td>\n",
       "      <td>June 19, 2020</td>\n",
       "      <td>2020</td>\n",
       "      <td>TV-MA</td>\n",
       "      <td>Comedies, Dramas, International Movies</td>\n",
       "      <td>A local shop becomes a hub for young men taken...</td>\n",
       "      <td>112.0</td>\n",
       "      <td>NaN</td>\n",
       "      <td>11</td>\n",
       "    </tr>\n",
       "  </tbody>\n",
       "</table>\n",
       "</div>"
      ],
      "text/plain": [
       "     show_id     type          title                director  \\\n",
       "4         s5  TV Show   Kota Factory                     NaN   \n",
       "2353   s2354    Movie  Chaman Bahaar  Apurva Dhar Badgaiyann   \n",
       "\n",
       "                                                   cast country  \\\n",
       "4     Mayur More, Jitendra Kumar, Ranjan Raj, Alam K...   India   \n",
       "2353  Jitendra Kumar, Ritika Badiani, Yogendra Tikku...   India   \n",
       "\n",
       "              date_added  release_year rating  \\\n",
       "4     September 24, 2021          2021  TV-MA   \n",
       "2353       June 19, 2020          2020  TV-MA   \n",
       "\n",
       "                                              listed_in  \\\n",
       "4     International TV Shows, Romantic TV Shows, TV ...   \n",
       "2353             Comedies, Dramas, International Movies   \n",
       "\n",
       "                                            description  duration_min  \\\n",
       "4     In a city of coaching centers known to train I...           NaN   \n",
       "2353  A local shop becomes a hub for young men taken...         112.0   \n",
       "\n",
       "      seasons_col  le_rating  \n",
       "4             2.0         11  \n",
       "2353          NaN         11  "
      ]
     },
     "execution_count": 71,
     "metadata": {},
     "output_type": "execute_result"
    }
   ],
   "source": [
    "# movies/shows in which Jitendra Kumar has performed\n",
    "jitu_shows = df[df['cast'].str.contains ('Jitendra Kumar', na = False)]\n",
    "jitu_shows.head()"
   ]
  },
  {
   "cell_type": "code",
   "execution_count": 33,
   "id": "1e8684d5",
   "metadata": {},
   "outputs": [
    {
     "name": "stdout",
     "output_type": "stream",
     "text": [
      "The best_month for releasing content is : January 26, 2017\n"
     ]
    }
   ],
   "source": [
    "# what is best month for releasing a content \n",
    "\n",
    "avg_ratings=df.groupby(\"date_added\")['le_rating'].mean()\n",
    "avg_ratings.sort_values(ascending=False)\n",
    "best_month= avg_ratings.idxmax()\n",
    "print(f\"The best_month for releasing content is : {best_month}\")"
   ]
  },
  {
   "cell_type": "code",
   "execution_count": 39,
   "id": "43c5bfe8",
   "metadata": {},
   "outputs": [
    {
     "name": "stdout",
     "output_type": "stream",
     "text": [
      "Most watched genere is : 'Dramas, International Movies'\n"
     ]
    }
   ],
   "source": [
    "#Which genres are most watched on Netflix?\n",
    "\n",
    "val_generes = df['listed_in'].value_counts()\n",
    "print(f\"Most watched genere is : '{val_generes.idxmax()}'\")"
   ]
  },
  {
   "cell_type": "code",
   "execution_count": 43,
   "id": "ab274110",
   "metadata": {},
   "outputs": [
    {
     "name": "stdout",
     "output_type": "stream",
     "text": [
      "Total movies released so far 8807\n"
     ]
    }
   ],
   "source": [
    "# How many movies have been released over the years?\n",
    "\n",
    "total_movie = df['title'].value_counts().sum()\n",
    "print(f'Total movies released so far {total_movie}')"
   ]
  },
  {
   "cell_type": "code",
   "execution_count": 48,
   "id": "7b2b856c",
   "metadata": {},
   "outputs": [
    {
     "name": "stdout",
     "output_type": "stream",
     "text": [
      "release_year\n",
      "1925       1\n",
      "1942       2\n",
      "1943       3\n",
      "1944       3\n",
      "1945       4\n",
      "        ... \n",
      "2017    1032\n",
      "2018    1147\n",
      "2019    1030\n",
      "2020     953\n",
      "2021     592\n",
      "Name: show_id, Length: 74, dtype: int64\n"
     ]
    }
   ],
   "source": [
    "#How many movies were made per year?\n",
    "\n",
    "movie_per_year = df.groupby('release_year')['show_id'].count()\n",
    "print(movie_per_year)"
   ]
  },
  {
   "cell_type": "code",
   "execution_count": 55,
   "id": "996b2204",
   "metadata": {},
   "outputs": [
    {
     "name": "stdout",
     "output_type": "stream",
     "text": [
      "Kota Factory\n",
      "Chhota Bheem\n",
      "Dharmakshetra\n",
      "Raja Rasoi Aur Anya Kahaniyan\n",
      "Stories by Rabindranath Tagore\n",
      "The Creative Indians\n",
      "Navarasa\n",
      "Alma Matters\n",
      "Sab Jholmaal Hai\n",
      "Lava Ka Dhaava\n",
      "The Big Day\n",
      "Bombay Begums\n",
      "Zindagi in Short\n",
      "Pitta Kathalu\n",
      "Mighty Little Bheem: Kite Festival\n",
      "Regiment Diaries\n",
      "Paava Kadhaigal\n",
      "Bhaag Beanie Bhaag\n",
      "Fabulous Lives of Bollywood Wives\n",
      "Mismatched\n",
      "Bad Boy Billionaires: India\n",
      "Masaba Masaba\n",
      "Little Singham\n",
      "Betaal\n",
      "ChuChu TV Nursery Rhymes & Kids Songs (Hindi)\n",
      "Hasmukh\n",
      "Akbar Birbal\n",
      "Ladies Up\n",
      "She\n",
      "Mighty Little Bheem: Festival of Colors\n",
      "Taj Mahal 1989\n",
      "Jamtara - Sabka Number Ayega\n",
      "Little Things\n",
      "Mighty Little Bheem: Diwali\n",
      "College Romance\n",
      "Engineering Girls\n",
      "Girls Hostel\n",
      "Inmates\n",
      "Bard of Blood\n",
      "Typewriter\n",
      "Leila\n",
      "Delhi Crime\n",
      "Cricket Fever: Mumbai Indians\n",
      "Selection Day\n",
      "GHOUL\n",
      "21 Sarfarosh: Saragarhi 1897\n",
      "7 (Seven)\n",
      "Agent Raghav\n",
      "Anjaan: Rural Myths\n",
      "Anjaan: Special Crimes Unit\n",
      "Badalte Rishton Ki Dastaan\n",
      "Bh Se Bhade\n",
      "Bhaage Re Mann\n",
      "Classic Legends\n",
      "Darr Sabko Lagta Hai\n",
      "Devlok with Devdutt Pattanaik\n",
      "Fear Files... Har Mod Pe Darr\n",
      "Gabru: Hip Hop Revolution\n",
      "Gangs of Hassepur\n",
      "Jhansi Ki Rani\n",
      "Khan: No. 1 Crime Hunter\n",
      "Khelti Hai Zindagi Aankh Micholi\n",
      "Khotey Sikkey\n",
      "Maharakshak Devi\n",
      "Maharakshak: Aryan\n",
      "Mahi Way\n",
      "Midnight Misadventures With Mallika Dua\n",
      "Powder\n",
      "Pyaar Tune Kya Kiya\n",
      "Ramayan\n",
      "Razia Sultan\n",
      "Rishta.com\n",
      "Super Bheem\n",
      "Th Eena Meena Deeka Chase Comedy Show\n",
      "Thackeray\n",
      "The Calling\n",
      "The Golden Years with Javed Akhtar\n",
      "The House That Made Me\n",
      "Yeh Meri Family\n"
     ]
    }
   ],
   "source": [
    "#Show only the titles of TV shows released in South Africa.\n",
    "titles_india = df[(df['type'] == 'TV Show') & (df['country'] == 'India')]\n",
    "for tv_shows in titles_india['title']:\n",
    "    print(tv_shows)"
   ]
  },
  {
   "cell_type": "code",
   "execution_count": 56,
   "id": "caa99063",
   "metadata": {},
   "outputs": [
    {
     "data": {
      "text/html": [
       "<div>\n",
       "<style scoped>\n",
       "    .dataframe tbody tr th:only-of-type {\n",
       "        vertical-align: middle;\n",
       "    }\n",
       "\n",
       "    .dataframe tbody tr th {\n",
       "        vertical-align: top;\n",
       "    }\n",
       "\n",
       "    .dataframe thead th {\n",
       "        text-align: right;\n",
       "    }\n",
       "</style>\n",
       "<table border=\"1\" class=\"dataframe\">\n",
       "  <thead>\n",
       "    <tr style=\"text-align: right;\">\n",
       "      <th></th>\n",
       "      <th>show_id</th>\n",
       "      <th>type</th>\n",
       "      <th>title</th>\n",
       "      <th>director</th>\n",
       "      <th>cast</th>\n",
       "      <th>country</th>\n",
       "      <th>date_added</th>\n",
       "      <th>release_year</th>\n",
       "      <th>rating</th>\n",
       "      <th>listed_in</th>\n",
       "      <th>description</th>\n",
       "      <th>duration_min</th>\n",
       "      <th>seasons_col</th>\n",
       "      <th>le_rating</th>\n",
       "    </tr>\n",
       "  </thead>\n",
       "  <tbody>\n",
       "    <tr>\n",
       "      <th>0</th>\n",
       "      <td>s1</td>\n",
       "      <td>Movie</td>\n",
       "      <td>Dick Johnson Is Dead</td>\n",
       "      <td>Kirsten Johnson</td>\n",
       "      <td>NaN</td>\n",
       "      <td>United States</td>\n",
       "      <td>September 25, 2021</td>\n",
       "      <td>2020</td>\n",
       "      <td>PG-13</td>\n",
       "      <td>Documentaries</td>\n",
       "      <td>As her father nears the end of his life, filmm...</td>\n",
       "      <td>90.0</td>\n",
       "      <td>NaN</td>\n",
       "      <td>7</td>\n",
       "    </tr>\n",
       "    <tr>\n",
       "      <th>1</th>\n",
       "      <td>s2</td>\n",
       "      <td>TV Show</td>\n",
       "      <td>Blood &amp; Water</td>\n",
       "      <td>NaN</td>\n",
       "      <td>Ama Qamata, Khosi Ngema, Gail Mabalane, Thaban...</td>\n",
       "      <td>South Africa</td>\n",
       "      <td>September 24, 2021</td>\n",
       "      <td>2021</td>\n",
       "      <td>TV-MA</td>\n",
       "      <td>International TV Shows, TV Dramas, TV Mysteries</td>\n",
       "      <td>After crossing paths at a party, a Cape Town t...</td>\n",
       "      <td>NaN</td>\n",
       "      <td>2.0</td>\n",
       "      <td>11</td>\n",
       "    </tr>\n",
       "    <tr>\n",
       "      <th>2</th>\n",
       "      <td>s3</td>\n",
       "      <td>TV Show</td>\n",
       "      <td>Ganglands</td>\n",
       "      <td>Julien Leclercq</td>\n",
       "      <td>Sami Bouajila, Tracy Gotoas, Samuel Jouy, Nabi...</td>\n",
       "      <td>NaN</td>\n",
       "      <td>September 24, 2021</td>\n",
       "      <td>2021</td>\n",
       "      <td>TV-MA</td>\n",
       "      <td>Crime TV Shows, International TV Shows, TV Act...</td>\n",
       "      <td>To protect his family from a powerful drug lor...</td>\n",
       "      <td>NaN</td>\n",
       "      <td>1.0</td>\n",
       "      <td>11</td>\n",
       "    </tr>\n",
       "  </tbody>\n",
       "</table>\n",
       "</div>"
      ],
      "text/plain": [
       "  show_id     type                 title         director  \\\n",
       "0      s1    Movie  Dick Johnson Is Dead  Kirsten Johnson   \n",
       "1      s2  TV Show         Blood & Water              NaN   \n",
       "2      s3  TV Show             Ganglands  Julien Leclercq   \n",
       "\n",
       "                                                cast        country  \\\n",
       "0                                                NaN  United States   \n",
       "1  Ama Qamata, Khosi Ngema, Gail Mabalane, Thaban...   South Africa   \n",
       "2  Sami Bouajila, Tracy Gotoas, Samuel Jouy, Nabi...            NaN   \n",
       "\n",
       "           date_added  release_year rating  \\\n",
       "0  September 25, 2021          2020  PG-13   \n",
       "1  September 24, 2021          2021  TV-MA   \n",
       "2  September 24, 2021          2021  TV-MA   \n",
       "\n",
       "                                           listed_in  \\\n",
       "0                                      Documentaries   \n",
       "1    International TV Shows, TV Dramas, TV Mysteries   \n",
       "2  Crime TV Shows, International TV Shows, TV Act...   \n",
       "\n",
       "                                         description  duration_min  \\\n",
       "0  As her father nears the end of his life, filmm...          90.0   \n",
       "1  After crossing paths at a party, a Cape Town t...           NaN   \n",
       "2  To protect his family from a powerful drug lor...           NaN   \n",
       "\n",
       "   seasons_col  le_rating  \n",
       "0          NaN          7  \n",
       "1          2.0         11  \n",
       "2          1.0         11  "
      ]
     },
     "execution_count": 56,
     "metadata": {},
     "output_type": "execute_result"
    }
   ],
   "source": [
    "df.head(3)"
   ]
  },
  {
   "cell_type": "code",
   "execution_count": 58,
   "id": "e08c9e76",
   "metadata": {},
   "outputs": [
    {
     "name": "stdout",
     "output_type": "stream",
     "text": [
      "Blood & Water\n",
      "Tjovitjo\n"
     ]
    }
   ],
   "source": [
    "#Show only the titles of TV shows released in south africa but more than 2 season\n",
    "titles_africa = df[(df['type'] == 'TV Show') & (df['country'] == 'South Africa') & (df['seasons_col'] >= 2)]\n",
    "for tv_shows in titles_africa['title']:\n",
    "    print(tv_shows)"
   ]
  },
  {
   "cell_type": "code",
   "execution_count": 64,
   "id": "4167eca6",
   "metadata": {},
   "outputs": [
    {
     "name": "stdout",
     "output_type": "stream",
     "text": [
      "Kyaa Super Kool Hain Hum\n",
      "Department\n",
      "Ferrari Ki Sawaari\n",
      "Aiyyaa\n",
      "Oh My God\n",
      "Players\n",
      "Talaash\n",
      "Kahaani\n",
      "Barfi!\n",
      "Grandmaster\n",
      "Heroine\n",
      "Husbands in Goa\n",
      "Kalakalappu\n",
      "Luv Shuv Tey Chicken Khurana\n",
      "Mugamoodi\n",
      "Thaandavam\n",
      "Vettai\n",
      "Rowdy Rathore\n",
      "Tere Naal Love Ho Gaya\n",
      "Celluloid Man\n",
      "Satrangi Re\n",
      "Tukaram\n"
     ]
    }
   ],
   "source": [
    "# show indian movie with more than 120 minutea duration from 2012\n",
    "long_ind_movie = df[(df['country'] == \"India\") & (df['type'] == \"Movie\") & (df['duration_min'] >=120) & (df['release_year'] == 2012)]\n",
    "for movie in long_ind_movie['title']:\n",
    "    print(movie)\n"
   ]
  },
  {
   "cell_type": "code",
   "execution_count": 65,
   "id": "ff47e985",
   "metadata": {},
   "outputs": [
    {
     "data": {
      "text/plain": [
       "Rajiv Chilaka             19\n",
       "Raúl Campos, Jan Suter    18\n",
       "Marcus Raboy              16\n",
       "Suhas Kadav               16\n",
       "Jay Karas                 14\n",
       "Cathy Garcia-Molina       13\n",
       "Jay Chapman               12\n",
       "Youssef Chahine           12\n",
       "Martin Scorsese           12\n",
       "Steven Spielberg          11\n",
       "Name: director, dtype: int64"
      ]
     },
     "execution_count": 65,
     "metadata": {},
     "output_type": "execute_result"
    }
   ],
   "source": [
    "#Identify the top 10 directors who have contributed the most TV shows and movies to Netflix\n",
    "top_director = df['director'].value_counts()\n",
    "top_director.head(10)"
   ]
  },
  {
   "cell_type": "code",
   "execution_count": 68,
   "id": "88ccd405",
   "metadata": {},
   "outputs": [
    {
     "data": {
      "text/plain": [
       "2"
      ]
     },
     "execution_count": 68,
     "metadata": {},
     "output_type": "execute_result"
    }
   ],
   "source": [
    "#How many movies/TV shows has Tom Cruise been cast in?\n",
    "\n",
    "tom_count = df[df['cast'].str.contains (\"Tom Cruise\", na = False)]\n",
    "len(tom_count)"
   ]
  },
  {
   "cell_type": "code",
   "execution_count": 70,
   "id": "4b80f8de",
   "metadata": {},
   "outputs": [
    {
     "data": {
      "text/html": [
       "<div>\n",
       "<style scoped>\n",
       "    .dataframe tbody tr th:only-of-type {\n",
       "        vertical-align: middle;\n",
       "    }\n",
       "\n",
       "    .dataframe tbody tr th {\n",
       "        vertical-align: top;\n",
       "    }\n",
       "\n",
       "    .dataframe thead th {\n",
       "        text-align: right;\n",
       "    }\n",
       "</style>\n",
       "<table border=\"1\" class=\"dataframe\">\n",
       "  <thead>\n",
       "    <tr style=\"text-align: right;\">\n",
       "      <th></th>\n",
       "      <th>show_id</th>\n",
       "      <th>type</th>\n",
       "      <th>title</th>\n",
       "      <th>director</th>\n",
       "      <th>cast</th>\n",
       "      <th>country</th>\n",
       "      <th>date_added</th>\n",
       "      <th>release_year</th>\n",
       "      <th>rating</th>\n",
       "      <th>listed_in</th>\n",
       "      <th>description</th>\n",
       "      <th>duration_min</th>\n",
       "      <th>seasons_col</th>\n",
       "      <th>le_rating</th>\n",
       "    </tr>\n",
       "  </thead>\n",
       "  <tbody>\n",
       "    <tr>\n",
       "      <th>4</th>\n",
       "      <td>s5</td>\n",
       "      <td>TV Show</td>\n",
       "      <td>Kota Factory</td>\n",
       "      <td>NaN</td>\n",
       "      <td>Mayur More, Jitendra Kumar, Ranjan Raj, Alam K...</td>\n",
       "      <td>India</td>\n",
       "      <td>September 24, 2021</td>\n",
       "      <td>2021</td>\n",
       "      <td>TV-MA</td>\n",
       "      <td>International TV Shows, Romantic TV Shows, TV ...</td>\n",
       "      <td>In a city of coaching centers known to train I...</td>\n",
       "      <td>NaN</td>\n",
       "      <td>2.0</td>\n",
       "      <td>11</td>\n",
       "    </tr>\n",
       "    <tr>\n",
       "      <th>2353</th>\n",
       "      <td>s2354</td>\n",
       "      <td>Movie</td>\n",
       "      <td>Chaman Bahaar</td>\n",
       "      <td>Apurva Dhar Badgaiyann</td>\n",
       "      <td>Jitendra Kumar, Ritika Badiani, Yogendra Tikku...</td>\n",
       "      <td>India</td>\n",
       "      <td>June 19, 2020</td>\n",
       "      <td>2020</td>\n",
       "      <td>TV-MA</td>\n",
       "      <td>Comedies, Dramas, International Movies</td>\n",
       "      <td>A local shop becomes a hub for young men taken...</td>\n",
       "      <td>112.0</td>\n",
       "      <td>NaN</td>\n",
       "      <td>11</td>\n",
       "    </tr>\n",
       "  </tbody>\n",
       "</table>\n",
       "</div>"
      ],
      "text/plain": [
       "     show_id     type          title                director  \\\n",
       "4         s5  TV Show   Kota Factory                     NaN   \n",
       "2353   s2354    Movie  Chaman Bahaar  Apurva Dhar Badgaiyann   \n",
       "\n",
       "                                                   cast country  \\\n",
       "4     Mayur More, Jitendra Kumar, Ranjan Raj, Alam K...   India   \n",
       "2353  Jitendra Kumar, Ritika Badiani, Yogendra Tikku...   India   \n",
       "\n",
       "              date_added  release_year rating  \\\n",
       "4     September 24, 2021          2021  TV-MA   \n",
       "2353       June 19, 2020          2020  TV-MA   \n",
       "\n",
       "                                              listed_in  \\\n",
       "4     International TV Shows, Romantic TV Shows, TV ...   \n",
       "2353             Comedies, Dramas, International Movies   \n",
       "\n",
       "                                            description  duration_min  \\\n",
       "4     In a city of coaching centers known to train I...           NaN   \n",
       "2353  A local shop becomes a hub for young men taken...         112.0   \n",
       "\n",
       "      seasons_col  le_rating  \n",
       "4             2.0         11  \n",
       "2353          NaN         11  "
      ]
     },
     "execution_count": 70,
     "metadata": {},
     "output_type": "execute_result"
    }
   ],
   "source": [
    "# movies/shows in which Jitendra Kumar has performed\n",
    "jitu_shows = df[df['cast'].str.contains ('Jitendra Kumar', na = False)]\n",
    "jitu_shows.head()"
   ]
  },
  {
   "cell_type": "code",
   "execution_count": 72,
   "id": "f64caa2d",
   "metadata": {},
   "outputs": [
    {
     "data": {
      "text/plain": [
       "13"
      ]
     },
     "execution_count": 72,
     "metadata": {},
     "output_type": "execute_result"
    }
   ],
   "source": [
    "#How many movies have a \"TV-14\" rating in Canada?\n",
    "can14_moview = df[(df['country'] == 'Canada') & (df['type'] == 'Movie') & (df['rating'] == \"TV-14\")]\n",
    "len(can14_moview)"
   ]
  },
  {
   "cell_type": "code",
   "execution_count": 75,
   "id": "2ffcce8a",
   "metadata": {},
   "outputs": [
    {
     "name": "stdout",
     "output_type": "stream",
     "text": [
      "Level 16\n",
      "Made You Look: A True Story About Fake Art\n",
      "There's Something in the Water\n",
      "Martin Matte: La vie, la mort...eh la la..!\n",
      "#cats_the_mewvie\n",
      "#Roxy\n",
      "At First Light\n",
      "Counterfeiting in Suburbia\n",
      "Long Time Running\n",
      "Sadie's Last Days on Earth\n",
      "Sardaar ji\n",
      "The Accountant of Auschwitz\n",
      "The Wrong Babysitter\n"
     ]
    }
   ],
   "source": [
    "# show the above movie name\n",
    "for movie in can14_moview['title']:\n",
    "    print (movie)"
   ]
  },
  {
   "cell_type": "code",
   "execution_count": 78,
   "id": "d2260920",
   "metadata": {},
   "outputs": [
    {
     "data": {
      "text/html": [
       "<div>\n",
       "<style scoped>\n",
       "    .dataframe tbody tr th:only-of-type {\n",
       "        vertical-align: middle;\n",
       "    }\n",
       "\n",
       "    .dataframe tbody tr th {\n",
       "        vertical-align: top;\n",
       "    }\n",
       "\n",
       "    .dataframe thead th {\n",
       "        text-align: right;\n",
       "    }\n",
       "</style>\n",
       "<table border=\"1\" class=\"dataframe\">\n",
       "  <thead>\n",
       "    <tr style=\"text-align: right;\">\n",
       "      <th></th>\n",
       "      <th>rating</th>\n",
       "      <th>duration_count</th>\n",
       "    </tr>\n",
       "  </thead>\n",
       "  <tbody>\n",
       "    <tr>\n",
       "      <th>0</th>\n",
       "      <td>66 min</td>\n",
       "      <td>0</td>\n",
       "    </tr>\n",
       "    <tr>\n",
       "      <th>1</th>\n",
       "      <td>74 min</td>\n",
       "      <td>0</td>\n",
       "    </tr>\n",
       "    <tr>\n",
       "      <th>2</th>\n",
       "      <td>84 min</td>\n",
       "      <td>0</td>\n",
       "    </tr>\n",
       "    <tr>\n",
       "      <th>3</th>\n",
       "      <td>G</td>\n",
       "      <td>41</td>\n",
       "    </tr>\n",
       "    <tr>\n",
       "      <th>4</th>\n",
       "      <td>NC-17</td>\n",
       "      <td>3</td>\n",
       "    </tr>\n",
       "    <tr>\n",
       "      <th>5</th>\n",
       "      <td>NR</td>\n",
       "      <td>75</td>\n",
       "    </tr>\n",
       "    <tr>\n",
       "      <th>6</th>\n",
       "      <td>PG</td>\n",
       "      <td>287</td>\n",
       "    </tr>\n",
       "    <tr>\n",
       "      <th>7</th>\n",
       "      <td>PG-13</td>\n",
       "      <td>490</td>\n",
       "    </tr>\n",
       "    <tr>\n",
       "      <th>8</th>\n",
       "      <td>R</td>\n",
       "      <td>797</td>\n",
       "    </tr>\n",
       "    <tr>\n",
       "      <th>9</th>\n",
       "      <td>TV-14</td>\n",
       "      <td>1427</td>\n",
       "    </tr>\n",
       "    <tr>\n",
       "      <th>10</th>\n",
       "      <td>TV-G</td>\n",
       "      <td>126</td>\n",
       "    </tr>\n",
       "    <tr>\n",
       "      <th>11</th>\n",
       "      <td>TV-MA</td>\n",
       "      <td>2062</td>\n",
       "    </tr>\n",
       "    <tr>\n",
       "      <th>12</th>\n",
       "      <td>TV-PG</td>\n",
       "      <td>540</td>\n",
       "    </tr>\n",
       "    <tr>\n",
       "      <th>13</th>\n",
       "      <td>TV-Y</td>\n",
       "      <td>131</td>\n",
       "    </tr>\n",
       "    <tr>\n",
       "      <th>14</th>\n",
       "      <td>TV-Y7</td>\n",
       "      <td>139</td>\n",
       "    </tr>\n",
       "    <tr>\n",
       "      <th>15</th>\n",
       "      <td>TV-Y7-FV</td>\n",
       "      <td>5</td>\n",
       "    </tr>\n",
       "    <tr>\n",
       "      <th>16</th>\n",
       "      <td>UR</td>\n",
       "      <td>3</td>\n",
       "    </tr>\n",
       "  </tbody>\n",
       "</table>\n",
       "</div>"
      ],
      "text/plain": [
       "      rating  duration_count\n",
       "0     66 min               0\n",
       "1     74 min               0\n",
       "2     84 min               0\n",
       "3          G              41\n",
       "4      NC-17               3\n",
       "5         NR              75\n",
       "6         PG             287\n",
       "7      PG-13             490\n",
       "8          R             797\n",
       "9      TV-14            1427\n",
       "10      TV-G             126\n",
       "11     TV-MA            2062\n",
       "12     TV-PG             540\n",
       "13      TV-Y             131\n",
       "14     TV-Y7             139\n",
       "15  TV-Y7-FV               5\n",
       "16        UR               3"
      ]
     },
     "execution_count": 78,
     "metadata": {},
     "output_type": "execute_result"
    }
   ],
   "source": [
    "# get the count and rating into a dataframe\n",
    "rating_count_ser = df.groupby('rating')['duration_min'].count()\n",
    "rating_count_df = rating_count_ser.to_frame().reset_index()\n",
    "rating_count_df.columns=['rating', 'duration_count']\n",
    "rating_count_df"
   ]
  },
  {
   "cell_type": "code",
   "execution_count": 82,
   "id": "b4e51b3c",
   "metadata": {},
   "outputs": [
    {
     "data": {
      "image/png": "[encoded data removed]",
      "text/plain": [
       "<Figure size 1080x504 with 1 Axes>"
      ]
     },
     "metadata": {
      "needs_background": "light"
     },
     "output_type": "display_data"
    }
   ],
   "source": [
    "#visualise the above data\n",
    "plt.figure(figsize=(15, 7))\n",
    "sns.barplot(data=rating_count_df, x='rating', y='duration_count')\n",
    "plt.xlabel('Rating')\n",
    "plt.ylabel('Count')\n",
    "plt.title('Number of Titles by Rating');"
   ]
  },
  {
   "cell_type": "code",
   "execution_count": null,
   "id": "43de3a99",
   "metadata": {},
   "outputs": [],
   "source": []
  }
 ],
 "metadata": {
  "kernelspec": {
   "display_name": "Python 3",
   "language": "python",
   "name": "python3"
  },
  "language_info": {
   "codemirror_mode": {
    "name": "ipython",
    "version": 3
   },
   "file_extension": ".py",
   "mimetype": "text/x-python",
   "name": "python",
   "nbconvert_exporter": "python",
   "pygments_lexer": "ipython3",
   "version": "3.8.8"
  }
 },
 "nbformat": 4,
 "nbformat_minor": 5
}
